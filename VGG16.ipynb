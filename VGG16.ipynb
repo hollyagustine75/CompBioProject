{
  "nbformat": 4,
  "nbformat_minor": 0,
  "metadata": {
    "colab": {
      "provenance": [],
      "gpuType": "T4"
    },
    "kernelspec": {
      "name": "python3",
      "display_name": "Python 3"
    },
    "language_info": {
      "name": "python"
    },
    "accelerator": "GPU"
  },
  "cells": [
    {
      "cell_type": "code",
      "execution_count": null,
      "metadata": {
        "id": "0-pCXps8FY_w"
      },
      "outputs": [],
      "source": [
        "import numpy as np\n",
        "import pandas as pd\n",
        "import matplotlib.pyplot as plt\n",
        "import seaborn as sns\n",
        "import sys\n",
        "import os\n",
        "from keras.applications.vgg16 import VGG16\n",
        "import keras\n",
        "from numpy import load\n",
        "from matplotlib import pyplot\n",
        "from sklearn.model_selection import train_test_split\n",
        "from keras import backend\n",
        "from keras.applications import VGG16\n",
        "from keras.layers import Dense\n",
        "from keras.layers import Flatten\n",
        "from keras.models import Sequential\n",
        "from keras.layers import Conv2D, MaxPooling2D\n",
        "from keras.optimizers import SGD\n",
        "from keras.models import Model\n",
        "from keras.preprocessing.image import ImageDataGenerator\n",
        "from keras.preprocessing.image import load_img\n",
        "from keras.preprocessing.image import img_to_array\n",
        "from keras.layers import Dropout\n",
        "from keras.layers import Activation , BatchNormalization, GlobalAveragePooling2D\n",
        "from keras.optimizers import Adam , Adamax\n",
        "from sklearn.metrics import f1_score, precision_score\n",
        "from sklearn.metrics import classification_report"
      ]
    },
    {
      "cell_type": "code",
      "source": [
        "!pip install kaggle"
      ],
      "metadata": {
        "colab": {
          "base_uri": "https://localhost:8080/"
        },
        "id": "L3OvL6-IFrmQ",
        "outputId": "21dd81d0-80db-4c6c-b6bc-1c77c61f13ff"
      },
      "execution_count": null,
      "outputs": [
        {
          "output_type": "stream",
          "name": "stdout",
          "text": [
            "Requirement already satisfied: kaggle in /usr/local/lib/python3.10/dist-packages (1.6.14)\n",
            "Requirement already satisfied: six>=1.10 in /usr/local/lib/python3.10/dist-packages (from kaggle) (1.16.0)\n",
            "Requirement already satisfied: certifi>=2023.7.22 in /usr/local/lib/python3.10/dist-packages (from kaggle) (2024.6.2)\n",
            "Requirement already satisfied: python-dateutil in /usr/local/lib/python3.10/dist-packages (from kaggle) (2.8.2)\n",
            "Requirement already satisfied: requests in /usr/local/lib/python3.10/dist-packages (from kaggle) (2.31.0)\n",
            "Requirement already satisfied: tqdm in /usr/local/lib/python3.10/dist-packages (from kaggle) (4.66.4)\n",
            "Requirement already satisfied: python-slugify in /usr/local/lib/python3.10/dist-packages (from kaggle) (8.0.4)\n",
            "Requirement already satisfied: urllib3 in /usr/local/lib/python3.10/dist-packages (from kaggle) (2.0.7)\n",
            "Requirement already satisfied: bleach in /usr/local/lib/python3.10/dist-packages (from kaggle) (6.1.0)\n",
            "Requirement already satisfied: webencodings in /usr/local/lib/python3.10/dist-packages (from bleach->kaggle) (0.5.1)\n",
            "Requirement already satisfied: text-unidecode>=1.3 in /usr/local/lib/python3.10/dist-packages (from python-slugify->kaggle) (1.3)\n",
            "Requirement already satisfied: charset-normalizer<4,>=2 in /usr/local/lib/python3.10/dist-packages (from requests->kaggle) (3.3.2)\n",
            "Requirement already satisfied: idna<4,>=2.5 in /usr/local/lib/python3.10/dist-packages (from requests->kaggle) (3.7)\n"
          ]
        }
      ]
    },
    {
      "cell_type": "code",
      "source": [
        "from google.colab import files\n",
        "files.upload()"
      ],
      "metadata": {
        "colab": {
          "base_uri": "https://localhost:8080/",
          "height": 38
        },
        "id": "1s9V7hzsFroP",
        "outputId": "5235bf9d-699a-4ba0-c8d8-d2bf85c663b3"
      },
      "execution_count": null,
      "outputs": [
        {
          "data": {
            "text/html": [
              "\n",
              "     <input type=\"file\" id=\"files-07499422-a482-441a-8221-e553d9b17aa7\" name=\"files[]\" multiple disabled\n",
              "        style=\"border:none\" />\n",
              "     <output id=\"result-07499422-a482-441a-8221-e553d9b17aa7\">\n",
              "      Upload widget is only available when the cell has been executed in the\n",
              "      current browser session. Please rerun this cell to enable.\n",
              "      </output>\n",
              "      <script>// Copyright 2017 Google LLC\n",
              "//\n",
              "// Licensed under the Apache License, Version 2.0 (the \"License\");\n",
              "// you may not use this file except in compliance with the License.\n",
              "// You may obtain a copy of the License at\n",
              "//\n",
              "//      http://www.apache.org/licenses/LICENSE-2.0\n",
              "//\n",
              "// Unless required by applicable law or agreed to in writing, software\n",
              "// distributed under the License is distributed on an \"AS IS\" BASIS,\n",
              "// WITHOUT WARRANTIES OR CONDITIONS OF ANY KIND, either express or implied.\n",
              "// See the License for the specific language governing permissions and\n",
              "// limitations under the License.\n",
              "\n",
              "/**\n",
              " * @fileoverview Helpers for google.colab Python module.\n",
              " */\n",
              "(function(scope) {\n",
              "function span(text, styleAttributes = {}) {\n",
              "  const element = document.createElement('span');\n",
              "  element.textContent = text;\n",
              "  for (const key of Object.keys(styleAttributes)) {\n",
              "    element.style[key] = styleAttributes[key];\n",
              "  }\n",
              "  return element;\n",
              "}\n",
              "\n",
              "// Max number of bytes which will be uploaded at a time.\n",
              "const MAX_PAYLOAD_SIZE = 100 * 1024;\n",
              "\n",
              "function _uploadFiles(inputId, outputId) {\n",
              "  const steps = uploadFilesStep(inputId, outputId);\n",
              "  const outputElement = document.getElementById(outputId);\n",
              "  // Cache steps on the outputElement to make it available for the next call\n",
              "  // to uploadFilesContinue from Python.\n",
              "  outputElement.steps = steps;\n",
              "\n",
              "  return _uploadFilesContinue(outputId);\n",
              "}\n",
              "\n",
              "// This is roughly an async generator (not supported in the browser yet),\n",
              "// where there are multiple asynchronous steps and the Python side is going\n",
              "// to poll for completion of each step.\n",
              "// This uses a Promise to block the python side on completion of each step,\n",
              "// then passes the result of the previous step as the input to the next step.\n",
              "function _uploadFilesContinue(outputId) {\n",
              "  const outputElement = document.getElementById(outputId);\n",
              "  const steps = outputElement.steps;\n",
              "\n",
              "  const next = steps.next(outputElement.lastPromiseValue);\n",
              "  return Promise.resolve(next.value.promise).then((value) => {\n",
              "    // Cache the last promise value to make it available to the next\n",
              "    // step of the generator.\n",
              "    outputElement.lastPromiseValue = value;\n",
              "    return next.value.response;\n",
              "  });\n",
              "}\n",
              "\n",
              "/**\n",
              " * Generator function which is called between each async step of the upload\n",
              " * process.\n",
              " * @param {string} inputId Element ID of the input file picker element.\n",
              " * @param {string} outputId Element ID of the output display.\n",
              " * @return {!Iterable<!Object>} Iterable of next steps.\n",
              " */\n",
              "function* uploadFilesStep(inputId, outputId) {\n",
              "  const inputElement = document.getElementById(inputId);\n",
              "  inputElement.disabled = false;\n",
              "\n",
              "  const outputElement = document.getElementById(outputId);\n",
              "  outputElement.innerHTML = '';\n",
              "\n",
              "  const pickedPromise = new Promise((resolve) => {\n",
              "    inputElement.addEventListener('change', (e) => {\n",
              "      resolve(e.target.files);\n",
              "    });\n",
              "  });\n",
              "\n",
              "  const cancel = document.createElement('button');\n",
              "  inputElement.parentElement.appendChild(cancel);\n",
              "  cancel.textContent = 'Cancel upload';\n",
              "  const cancelPromise = new Promise((resolve) => {\n",
              "    cancel.onclick = () => {\n",
              "      resolve(null);\n",
              "    };\n",
              "  });\n",
              "\n",
              "  // Wait for the user to pick the files.\n",
              "  const files = yield {\n",
              "    promise: Promise.race([pickedPromise, cancelPromise]),\n",
              "    response: {\n",
              "      action: 'starting',\n",
              "    }\n",
              "  };\n",
              "\n",
              "  cancel.remove();\n",
              "\n",
              "  // Disable the input element since further picks are not allowed.\n",
              "  inputElement.disabled = true;\n",
              "\n",
              "  if (!files) {\n",
              "    return {\n",
              "      response: {\n",
              "        action: 'complete',\n",
              "      }\n",
              "    };\n",
              "  }\n",
              "\n",
              "  for (const file of files) {\n",
              "    const li = document.createElement('li');\n",
              "    li.append(span(file.name, {fontWeight: 'bold'}));\n",
              "    li.append(span(\n",
              "        `(${file.type || 'n/a'}) - ${file.size} bytes, ` +\n",
              "        `last modified: ${\n",
              "            file.lastModifiedDate ? file.lastModifiedDate.toLocaleDateString() :\n",
              "                                    'n/a'} - `));\n",
              "    const percent = span('0% done');\n",
              "    li.appendChild(percent);\n",
              "\n",
              "    outputElement.appendChild(li);\n",
              "\n",
              "    const fileDataPromise = new Promise((resolve) => {\n",
              "      const reader = new FileReader();\n",
              "      reader.onload = (e) => {\n",
              "        resolve(e.target.result);\n",
              "      };\n",
              "      reader.readAsArrayBuffer(file);\n",
              "    });\n",
              "    // Wait for the data to be ready.\n",
              "    let fileData = yield {\n",
              "      promise: fileDataPromise,\n",
              "      response: {\n",
              "        action: 'continue',\n",
              "      }\n",
              "    };\n",
              "\n",
              "    // Use a chunked sending to avoid message size limits. See b/62115660.\n",
              "    let position = 0;\n",
              "    do {\n",
              "      const length = Math.min(fileData.byteLength - position, MAX_PAYLOAD_SIZE);\n",
              "      const chunk = new Uint8Array(fileData, position, length);\n",
              "      position += length;\n",
              "\n",
              "      const base64 = btoa(String.fromCharCode.apply(null, chunk));\n",
              "      yield {\n",
              "        response: {\n",
              "          action: 'append',\n",
              "          file: file.name,\n",
              "          data: base64,\n",
              "        },\n",
              "      };\n",
              "\n",
              "      let percentDone = fileData.byteLength === 0 ?\n",
              "          100 :\n",
              "          Math.round((position / fileData.byteLength) * 100);\n",
              "      percent.textContent = `${percentDone}% done`;\n",
              "\n",
              "    } while (position < fileData.byteLength);\n",
              "  }\n",
              "\n",
              "  // All done.\n",
              "  yield {\n",
              "    response: {\n",
              "      action: 'complete',\n",
              "    }\n",
              "  };\n",
              "}\n",
              "\n",
              "scope.google = scope.google || {};\n",
              "scope.google.colab = scope.google.colab || {};\n",
              "scope.google.colab._files = {\n",
              "  _uploadFiles,\n",
              "  _uploadFilesContinue,\n",
              "};\n",
              "})(self);\n",
              "</script> "
            ],
            "text/plain": [
              "<IPython.core.display.HTML object>"
            ]
          },
          "metadata": {},
          "output_type": "display_data"
        }
      ]
    },
    {
      "cell_type": "code",
      "source": [
        "!mkdir ~/.kaggle\n",
        "!cp kaggle.json ~/.kaggle/\n",
        "!chmod 600 ~/.kaggle/kaggle.json"
      ],
      "metadata": {
        "id": "aptg5gnyFrqQ"
      },
      "execution_count": null,
      "outputs": []
    },
    {
      "cell_type": "code",
      "source": [
        "!kaggle datasets download -d vipoooool/new-plant-diseases-dataset"
      ],
      "metadata": {
        "id": "R7w4NI6VFrsh"
      },
      "execution_count": null,
      "outputs": []
    },
    {
      "cell_type": "code",
      "source": [
        "!unzip new-plant-diseases-dataset.zip"
      ],
      "metadata": {
        "id": "7q6pr7UmFrus"
      },
      "execution_count": null,
      "outputs": []
    },
    {
      "cell_type": "code",
      "source": [
        "traindir = \"/content/New Plant Diseases Dataset(Augmented)/New Plant Diseases Dataset(Augmented)/train\"\n",
        "validdir = \"/content/New Plant Diseases Dataset(Augmented)/New Plant Diseases Dataset(Augmented)/valid\"\n",
        "testdir = \"/content/test/test\"\n",
        "\n",
        "train_datagen = ImageDataGenerator(rescale=1./255,\n",
        "                                   shear_range=0.2,\n",
        "                                   zoom_range=0.2,\n",
        "                                   width_shift_range=0.2,\n",
        "                                   height_shift_range=0.2,\n",
        "                                   fill_mode='nearest')\n",
        "\n",
        "valid_datagen = ImageDataGenerator(rescale=1./255)\n",
        "\n",
        "batch_size = 128\n",
        "\n",
        "training_set = train_datagen.flow_from_directory(traindir,\n",
        "                                                 target_size=(224, 224),\n",
        "                                                 batch_size=batch_size,\n",
        "                                                 class_mode='categorical')\n",
        "\n",
        "valid_set = valid_datagen.flow_from_directory(validdir,\n",
        "                                            target_size=(224, 224),\n",
        "                                            batch_size=batch_size,\n",
        "                                            class_mode='categorical')"
      ],
      "metadata": {
        "id": "DSVfaR8RFrw8"
      },
      "execution_count": null,
      "outputs": []
    },
    {
      "cell_type": "code",
      "source": [
        "class_names = os.listdir(traindir)\n",
        "class_names"
      ],
      "metadata": {
        "id": "VLIU_qHlLK20"
      },
      "execution_count": null,
      "outputs": []
    },
    {
      "cell_type": "code",
      "source": [
        "class_dict = training_set.class_indices\n",
        "class_dict"
      ],
      "metadata": {
        "id": "Ksj7Xf5lFrzg"
      },
      "execution_count": null,
      "outputs": []
    },
    {
      "cell_type": "code",
      "source": [
        "li = list(class_dict.keys())\n",
        "li"
      ],
      "metadata": {
        "colab": {
          "base_uri": "https://localhost:8080/"
        },
        "id": "jdxPz6XOFr1r",
        "outputId": "a83f177a-cf3c-430f-9fbe-56a48a51110f"
      },
      "execution_count": null,
      "outputs": [
        {
          "output_type": "execute_result",
          "data": {
            "text/plain": [
              "['Apple___Apple_scab',\n",
              " 'Apple___Black_rot',\n",
              " 'Apple___Cedar_apple_rust',\n",
              " 'Apple___healthy',\n",
              " 'Blueberry___healthy',\n",
              " 'Cherry_(including_sour)___Powdery_mildew',\n",
              " 'Cherry_(including_sour)___healthy',\n",
              " 'Corn_(maize)___Cercospora_leaf_spot Gray_leaf_spot',\n",
              " 'Corn_(maize)___Common_rust_',\n",
              " 'Corn_(maize)___Northern_Leaf_Blight',\n",
              " 'Corn_(maize)___healthy',\n",
              " 'Grape___Black_rot',\n",
              " 'Grape___Esca_(Black_Measles)',\n",
              " 'Grape___Leaf_blight_(Isariopsis_Leaf_Spot)',\n",
              " 'Grape___healthy',\n",
              " 'Orange___Haunglongbing_(Citrus_greening)',\n",
              " 'Peach___Bacterial_spot',\n",
              " 'Peach___healthy',\n",
              " 'Pepper,_bell___Bacterial_spot',\n",
              " 'Pepper,_bell___healthy',\n",
              " 'Potato___Early_blight',\n",
              " 'Potato___Late_blight',\n",
              " 'Potato___healthy',\n",
              " 'Raspberry___healthy',\n",
              " 'Soybean___healthy',\n",
              " 'Squash___Powdery_mildew',\n",
              " 'Strawberry___Leaf_scorch',\n",
              " 'Strawberry___healthy',\n",
              " 'Tomato___Bacterial_spot',\n",
              " 'Tomato___Early_blight',\n",
              " 'Tomato___Late_blight',\n",
              " 'Tomato___Leaf_Mold',\n",
              " 'Tomato___Septoria_leaf_spot',\n",
              " 'Tomato___Spider_mites Two-spotted_spider_mite',\n",
              " 'Tomato___Target_Spot',\n",
              " 'Tomato___Tomato_Yellow_Leaf_Curl_Virus',\n",
              " 'Tomato___Tomato_mosaic_virus',\n",
              " 'Tomato___healthy']"
            ]
          },
          "metadata": {},
          "execution_count": 12
        }
      ]
    },
    {
      "cell_type": "code",
      "source": [
        "train_num = training_set.samples\n",
        "valid_num = valid_set.samples\n",
        "print(\"Training samples number : \", train_num)\n",
        "print(\"Validation samples number : \", valid_num)"
      ],
      "metadata": {
        "colab": {
          "base_uri": "https://localhost:8080/"
        },
        "id": "_cOiGIXZFr4Q",
        "outputId": "79869b43-c88c-4933-bb8c-a42b3fc17a59"
      },
      "execution_count": null,
      "outputs": [
        {
          "output_type": "stream",
          "name": "stdout",
          "text": [
            "Training samples number :  70295\n",
            "Validation samples number :  17572\n"
          ]
        }
      ]
    },
    {
      "cell_type": "code",
      "source": [
        "base_model=VGG16(include_top=False,input_shape=(224,224,3))\n",
        "base_model.trainable=False"
      ],
      "metadata": {
        "id": "5T7iuM_pFr6n",
        "colab": {
          "base_uri": "https://localhost:8080/"
        },
        "outputId": "848bae38-a4cb-400e-cc03-e3ae0397a85d"
      },
      "execution_count": null,
      "outputs": [
        {
          "output_type": "stream",
          "name": "stdout",
          "text": [
            "Downloading data from https://storage.googleapis.com/tensorflow/keras-applications/vgg16/vgg16_weights_tf_dim_ordering_tf_kernels_notop.h5\n",
            "58889256/58889256 [==============================] - 2s 0us/step\n"
          ]
        }
      ]
    },
    {
      "cell_type": "code",
      "source": [
        "classifier=keras.models.Sequential()\n",
        "classifier.add(base_model)\n",
        "classifier.add(Flatten())\n",
        "classifier.add(Dense(38,activation='softmax'))\n",
        "classifier.summary()"
      ],
      "metadata": {
        "colab": {
          "base_uri": "https://localhost:8080/"
        },
        "id": "iAINCe1UFr9H",
        "outputId": "280e9f93-1a45-436f-9161-2f95bd39ba6b"
      },
      "execution_count": null,
      "outputs": [
        {
          "output_type": "stream",
          "name": "stdout",
          "text": [
            "Model: \"sequential\"\n",
            "_________________________________________________________________\n",
            " Layer (type)                Output Shape              Param #   \n",
            "=================================================================\n",
            " vgg16 (Functional)          (None, 7, 7, 512)         14714688  \n",
            "                                                                 \n",
            " flatten (Flatten)           (None, 25088)             0         \n",
            "                                                                 \n",
            " dense (Dense)               (None, 38)                953382    \n",
            "                                                                 \n",
            "=================================================================\n",
            "Total params: 15668070 (59.77 MB)\n",
            "Trainable params: 953382 (3.64 MB)\n",
            "Non-trainable params: 14714688 (56.13 MB)\n",
            "_________________________________________________________________\n"
          ]
        }
      ]
    },
    {
      "cell_type": "code",
      "source": [
        "learning_rate = 0.001\n",
        "\n",
        "opti = Adam(learning_rate=learning_rate)\n",
        "\n",
        "classifier.compile(loss='categorical_crossentropy',\n",
        "                   metrics=['accuracy'],\n",
        "                   optimizer=opti)"
      ],
      "metadata": {
        "id": "QUXleQ28Fr_0"
      },
      "execution_count": null,
      "outputs": []
    },
    {
      "cell_type": "code",
      "source": [
        "history = classifier.fit(training_set,\n",
        "                         steps_per_epoch=train_num//batch_size,\n",
        "                         validation_data=valid_set,\n",
        "                         epochs=5,\n",
        "                         validation_steps=valid_num//batch_size\n",
        "                        )"
      ],
      "metadata": {
        "colab": {
          "base_uri": "https://localhost:8080/"
        },
        "id": "izytH_rKFsGv",
        "outputId": "56c3f522-2286-4bfa-85b2-df45ddf8642b"
      },
      "execution_count": null,
      "outputs": [
        {
          "output_type": "stream",
          "name": "stdout",
          "text": [
            "Epoch 1/5\n",
            "549/549 [==============================] - 1104s 2s/step - loss: 0.7098 - accuracy: 0.7890 - val_loss: 0.3544 - val_accuracy: 0.8867\n",
            "Epoch 2/5\n",
            "549/549 [==============================] - 1088s 2s/step - loss: 0.3696 - accuracy: 0.8814 - val_loss: 0.2969 - val_accuracy: 0.9052\n",
            "Epoch 3/5\n",
            "549/549 [==============================] - 1091s 2s/step - loss: 0.3254 - accuracy: 0.8948 - val_loss: 0.3192 - val_accuracy: 0.9015\n",
            "Epoch 4/5\n",
            "549/549 [==============================] - 1128s 2s/step - loss: 0.2969 - accuracy: 0.9041 - val_loss: 0.2573 - val_accuracy: 0.9224\n",
            "Epoch 5/5\n",
            "549/549 [==============================] - 1089s 2s/step - loss: 0.2769 - accuracy: 0.9116 - val_loss: 0.3263 - val_accuracy: 0.9011\n"
          ]
        }
      ]
    },
    {
      "cell_type": "code",
      "source": [
        "#5 epoch running for 1 hour 35 minutes 26 seconds\n",
        "# Saving the model\n",
        "filepath = \"Mymodel.h5\"\n",
        "classifier.save(filepath)"
      ],
      "metadata": {
        "id": "w7eTTSfgFsI7",
        "colab": {
          "base_uri": "https://localhost:8080/"
        },
        "outputId": "48b9627a-dab1-4bc5-90a0-ac7eb0a3ac65"
      },
      "execution_count": null,
      "outputs": [
        {
          "output_type": "stream",
          "name": "stderr",
          "text": [
            "/usr/local/lib/python3.10/dist-packages/keras/src/engine/training.py:3103: UserWarning: You are saving your model as an HDF5 file via `model.save()`. This file format is considered legacy. We recommend using instead the native Keras format, e.g. `model.save('my_model.keras')`.\n",
            "  saving_api.save_model(\n"
          ]
        }
      ]
    },
    {
      "cell_type": "code",
      "source": [
        "sns.set()\n",
        "\n",
        "acc = history.history['accuracy']\n",
        "val_acc = history.history['val_accuracy']\n",
        "loss = history.history['loss']\n",
        "val_loss = history.history['val_loss']\n",
        "epochs = range(1, len(loss) + 1)\n",
        "\n",
        "#accuracy plot\n",
        "plt.plot(epochs, acc, color='green', label='Training Accuracy')\n",
        "plt.plot(epochs, val_acc, color='blue', label='Validation Accuracy')\n",
        "plt.title('Training and Validation Accuracy')\n",
        "plt.ylabel('Accuracy')\n",
        "plt.xlabel('Epoch')\n",
        "plt.legend()\n",
        "\n",
        "plt.figure()\n",
        "\n",
        "#loss plot\n",
        "plt.plot(epochs, loss, color='orange', label='Training Loss')\n",
        "plt.plot(epochs, val_loss, color='red', label='Validation Loss')\n",
        "plt.title('Training and Validation Loss')\n",
        "plt.xlabel('Epoch')\n",
        "plt.ylabel('Loss')\n",
        "plt.legend()\n",
        "\n",
        "plt.show()"
      ],
      "metadata": {
        "id": "GTi2tIUkFsLQ",
        "colab": {
          "base_uri": "https://localhost:8080/",
          "height": 943
        },
        "outputId": "96ae0178-4fbe-4842-a096-2db9d170722a"
      },
      "execution_count": null,
      "outputs": [
        {
          "output_type": "display_data",
          "data": {
            "text/plain": [
              "<Figure size 640x480 with 1 Axes>"
            ],
            "image/png": "[encoded data removed]"
          },
          "metadata": {}
        },
        {
          "output_type": "display_data",
          "data": {
            "text/plain": [
              "<Figure size 640x480 with 1 Axes>"
            ],
            "image/png": "[encoded data removed]"
          },
          "metadata": {}
        }
      ]
    },
    {
      "cell_type": "code",
      "source": [
        "# Extracting values from the history object\n",
        "acc = history.history['accuracy']\n",
        "val_acc = history.history['val_accuracy']\n",
        "loss = history.history['loss']\n",
        "val_loss = history.history['val_loss']\n",
        "\n",
        "# Calculating average accuracy and loss\n",
        "avg_acc = np.mean(acc)\n",
        "avg_val_acc = np.mean(val_acc)\n",
        "avg_loss = np.mean(loss)\n",
        "avg_val_loss = np.mean(val_loss)\n",
        "\n",
        "# Printing the values for each epoch\n",
        "print(\"Epoch\\tTraining Accuracy\\tValidation Accuracy\\tTraining Loss\\tValidation Loss\")\n",
        "for i in range(len(acc)):\n",
        "    print(f\"{i+1}\\t{acc[i]:.4f}\\t\\t{val_acc[i]:.4f}\\t\\t{loss[i]:.4f}\\t\\t{val_loss[i]:.4f}\")\n",
        "\n",
        "# Printing average accuracy and loss\n",
        "print(\"\\nAverage Training Accuracy: {:.4f}\".format(avg_acc))\n",
        "print(\"Average Validation Accuracy: {:.4f}\".format(avg_val_acc))\n",
        "print(\"Average Training Loss: {:.4f}\".format(avg_loss))\n",
        "print(\"Average Validation Loss: {:.4f}\".format(avg_val_loss))"
      ],
      "metadata": {
        "colab": {
          "base_uri": "https://localhost:8080/"
        },
        "id": "uvA11yXkEzW-",
        "outputId": "82577c48-07cc-4e4e-8676-64ef7c1e64e1"
      },
      "execution_count": null,
      "outputs": [
        {
          "output_type": "stream",
          "name": "stdout",
          "text": [
            "Epoch\tTraining Accuracy\tValidation Accuracy\tTraining Loss\tValidation Loss\n",
            "1\t0.7890\t\t0.8867\t\t0.7098\t\t0.3544\n",
            "2\t0.8814\t\t0.9052\t\t0.3696\t\t0.2969\n",
            "3\t0.8948\t\t0.9015\t\t0.3254\t\t0.3192\n",
            "4\t0.9041\t\t0.9224\t\t0.2969\t\t0.2573\n",
            "5\t0.9116\t\t0.9011\t\t0.2769\t\t0.3263\n",
            "\n",
            "Average Training Accuracy: 0.8762\n",
            "Average Validation Accuracy: 0.9034\n",
            "Average Training Loss: 0.3957\n",
            "Average Validation Loss: 0.3108\n"
          ]
        }
      ]
    },
    {
      "cell_type": "code",
      "source": [
        "final_train_acc = history.history['accuracy'][-1] * 100\n",
        "final_val_acc = history.history['val_accuracy'][-1] * 100\n",
        "\n",
        "print(\"Training Accuracy:\", final_train_acc, \"%\")\n",
        "print(\"Validation Accuracy:\", final_val_acc, \"%\")"
      ],
      "metadata": {
        "id": "8OScNM1iFsNn",
        "colab": {
          "base_uri": "https://localhost:8080/"
        },
        "outputId": "a279f301-4541-4ca9-8f66-0f80e4976bfe"
      },
      "execution_count": null,
      "outputs": [
        {
          "output_type": "stream",
          "name": "stdout",
          "text": [
            "Training Accuracy: 91.15965962409973 %\n",
            "Validation Accuracy: 90.1060700416565 %\n"
          ]
        }
      ]
    },
    {
      "cell_type": "code",
      "source": [
        "y_pred = classifier.predict(valid_set)\n",
        "y_pred_classes = np.argmax(y_pred, axis=1)\n",
        "y_true = valid_set.classes\n",
        "\n",
        "# Calculate precision and F1 score\n",
        "precision = precision_score(y_true, y_pred_classes, average='weighted')\n",
        "f1 = f1_score(y_true, y_pred_classes, average='weighted')\n",
        "\n",
        "# Convert F1 score to percentage\n",
        "f1_percent = f1 * 100\n",
        "\n",
        "print(\"Weighted Precision: {:.2f}\".format(precision))\n",
        "print(\"Weighted F1 Score: {:.2f}\".format(f1))\n",
        "print(\"Weighted F1 Score (%): {:.2f}\".format(f1_percent))"
      ],
      "metadata": {
        "colab": {
          "base_uri": "https://localhost:8080/"
        },
        "id": "a2eHMEecyR6_",
        "outputId": "23317c4d-1ebc-4cf4-a25c-f896a73bd609"
      },
      "execution_count": null,
      "outputs": [
        {
          "output_type": "stream",
          "name": "stdout",
          "text": [
            "138/138 [==============================] - 80s 580ms/step\n",
            "Weighted Precision: 0.03\n",
            "Weighted F1 Score: 0.02\n",
            "Weighted F1 Score (%): 2.48\n"
          ]
        }
      ]
    },
    {
      "cell_type": "code",
      "source": [
        "# Get the class labels\n",
        "class_labels = list(valid_set.class_indices.keys())\n",
        "\n",
        "# Calculate precision and F1 score\n",
        "print(classification_report(y_true, y_pred_classes, target_names=class_labels))"
      ],
      "metadata": {
        "colab": {
          "base_uri": "https://localhost:8080/"
        },
        "id": "7619GDmiO7nJ",
        "outputId": "459ec811-e051-4116-a32c-3bc7171757ed"
      },
      "execution_count": null,
      "outputs": [
        {
          "output_type": "stream",
          "name": "stdout",
          "text": [
            "                                                    precision    recall  f1-score   support\n",
            "\n",
            "                                Apple___Apple_scab       0.03      0.03      0.03       504\n",
            "                                 Apple___Black_rot       0.04      0.04      0.04       497\n",
            "                          Apple___Cedar_apple_rust       0.03      0.03      0.03       440\n",
            "                                   Apple___healthy       0.03      0.03      0.03       502\n",
            "                               Blueberry___healthy       0.03      0.03      0.03       454\n",
            "          Cherry_(including_sour)___Powdery_mildew       0.01      0.01      0.01       421\n",
            "                 Cherry_(including_sour)___healthy       0.01      0.02      0.02       456\n",
            "Corn_(maize)___Cercospora_leaf_spot Gray_leaf_spot       0.02      0.02      0.02       410\n",
            "                       Corn_(maize)___Common_rust_       0.03      0.03      0.03       477\n",
            "               Corn_(maize)___Northern_Leaf_Blight       0.02      0.02      0.02       477\n",
            "                            Corn_(maize)___healthy       0.02      0.02      0.02       465\n",
            "                                 Grape___Black_rot       0.01      0.02      0.02       472\n",
            "                      Grape___Esca_(Black_Measles)       0.03      0.01      0.02       480\n",
            "        Grape___Leaf_blight_(Isariopsis_Leaf_Spot)       0.03      0.02      0.02       430\n",
            "                                   Grape___healthy       0.02      0.02      0.02       423\n",
            "          Orange___Haunglongbing_(Citrus_greening)       0.02      0.02      0.02       503\n",
            "                            Peach___Bacterial_spot       0.02      0.02      0.02       459\n",
            "                                   Peach___healthy       0.03      0.03      0.03       432\n",
            "                     Pepper,_bell___Bacterial_spot       0.03      0.04      0.03       478\n",
            "                            Pepper,_bell___healthy       0.02      0.02      0.02       497\n",
            "                             Potato___Early_blight       0.03      0.03      0.03       485\n",
            "                              Potato___Late_blight       0.03      0.02      0.03       485\n",
            "                                  Potato___healthy       0.03      0.04      0.04       456\n",
            "                               Raspberry___healthy       0.03      0.03      0.03       445\n",
            "                                 Soybean___healthy       0.03      0.03      0.03       505\n",
            "                           Squash___Powdery_mildew       0.03      0.03      0.03       434\n",
            "                          Strawberry___Leaf_scorch       0.03      0.03      0.03       444\n",
            "                              Strawberry___healthy       0.02      0.02      0.02       456\n",
            "                           Tomato___Bacterial_spot       0.03      0.02      0.02       425\n",
            "                             Tomato___Early_blight       0.03      0.02      0.02       480\n",
            "                              Tomato___Late_blight       0.02      0.02      0.02       463\n",
            "                                Tomato___Leaf_Mold       0.02      0.01      0.01       470\n",
            "                       Tomato___Septoria_leaf_spot       0.02      0.03      0.02       436\n",
            "     Tomato___Spider_mites Two-spotted_spider_mite       0.02      0.04      0.03       435\n",
            "                              Tomato___Target_Spot       0.02      0.03      0.03       457\n",
            "            Tomato___Tomato_Yellow_Leaf_Curl_Virus       0.02      0.02      0.02       490\n",
            "                      Tomato___Tomato_mosaic_virus       0.03      0.02      0.02       448\n",
            "                                  Tomato___healthy       0.02      0.01      0.02       481\n",
            "\n",
            "                                          accuracy                           0.02     17572\n",
            "                                         macro avg       0.03      0.02      0.02     17572\n",
            "                                      weighted avg       0.03      0.02      0.02     17572\n",
            "\n"
          ]
        }
      ]
    }
  ]
}